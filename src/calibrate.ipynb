{
 "cells": [
  {
   "cell_type": "code",
   "execution_count": 35,
   "metadata": {},
   "outputs": [],
   "source": [
    "import pickle\n",
    "import numpy as np\n",
    "import cv2\n",
    "import glob\n",
    "import matplotlib.pyplot as plt\n",
    "\n",
    "%matplotlib inline"
   ]
  },
  {
   "cell_type": "code",
   "execution_count": null,
   "metadata": {},
   "outputs": [],
   "source": [
    "calibimgfiles = '..\\photos\\Calibration\\*.jpg'\n",
    "\n",
    "objp = np.zeros((6*8,3), np.float32)\n",
    "objp[:,:2] = 3*np.mgrid[0:8, 0:6].T.reshape(-1,2)\n",
    "\n",
    "objpoints = [] # real world\n",
    "imgpoints = [] # image"
   ]
  },
  {
   "cell_type": "code",
   "execution_count": 37,
   "metadata": {},
   "outputs": [],
   "source": [
    "images = glob.glob(calibimgfiles)"
   ]
  },
  {
   "cell_type": "code",
   "execution_count": null,
   "metadata": {},
   "outputs": [
    {
     "name": "stdout",
     "output_type": "stream",
     "text": [
      "..\\photos\\Calibration\\frame_C0_01.jpg\n",
      "..\\photos\\Calibration\\frame_C0_02.jpg\n",
      "..\\photos\\Calibration\\frame_C0_03.jpg\n",
      "..\\photos\\Calibration\\frame_C0_04.jpg\n",
      "..\\photos\\Calibration\\frame_C0_05.jpg\n",
      "..\\photos\\Calibration\\frame_C0_06.jpg\n",
      "..\\photos\\Calibration\\frame_C0_07.jpg\n",
      "..\\photos\\Calibration\\frame_C0_08.jpg\n",
      "..\\photos\\Calibration\\frame_C0_09.jpg\n",
      "..\\photos\\Calibration\\frame_C0_10.jpg\n",
      "..\\photos\\Calibration\\frame_C0_11.jpg\n",
      "..\\photos\\Calibration\\frame_C0_12.jpg\n",
      "..\\photos\\Calibration\\frame_C0_13.jpg\n",
      "..\\photos\\Calibration\\frame_C0_14.jpg\n",
      "..\\photos\\Calibration\\frame_C0_15.jpg\n",
      "..\\photos\\Calibration\\frame_C0_16.jpg\n",
      "..\\photos\\Calibration\\frame_C0_17.jpg\n",
      "..\\photos\\Calibration\\frame_C0_18.jpg\n",
      "..\\photos\\Calibration\\frame_C0_19.jpg\n",
      "..\\photos\\Calibration\\frame_C0_20.jpg\n",
      "..\\photos\\Calibration\\frame_C1_01.jpg\n",
      "..\\photos\\Calibration\\frame_C1_02.jpg\n",
      "..\\photos\\Calibration\\frame_C1_03.jpg\n",
      "..\\photos\\Calibration\\frame_C1_04.jpg\n",
      "..\\photos\\Calibration\\frame_C1_05.jpg\n",
      "..\\photos\\Calibration\\frame_C1_06.jpg\n",
      "..\\photos\\Calibration\\frame_C1_07.jpg\n",
      "..\\photos\\Calibration\\frame_C1_08.jpg\n",
      "..\\photos\\Calibration\\frame_C1_09.jpg\n",
      "..\\photos\\Calibration\\frame_C1_10.jpg\n",
      "..\\photos\\Calibration\\frame_C1_11.jpg\n",
      "..\\photos\\Calibration\\frame_C1_12.jpg\n",
      "..\\photos\\Calibration\\frame_C1_13.jpg\n",
      "..\\photos\\Calibration\\frame_C1_14.jpg\n",
      "..\\photos\\Calibration\\frame_C1_15.jpg\n",
      "..\\photos\\Calibration\\frame_C1_16.jpg\n",
      "..\\photos\\Calibration\\frame_C1_17.jpg\n",
      "..\\photos\\Calibration\\frame_C1_18.jpg\n",
      "..\\photos\\Calibration\\frame_C1_19.jpg\n",
      "..\\photos\\Calibration\\frame_C1_20.jpg\n"
     ]
    }
   ],
   "source": [
    "count = 0\n",
    "for idx, fname in enumerate(images):\n",
    "    img = cv2.imread(fname)\n",
    "    img_size = (img.shape[1], img.shape[0])\n",
    "    gray = cv2.cvtColor(img, cv2.COLOR_BGR2GRAY)\n",
    "\n",
    "    ret, corners = cv2.findChessboardCorners(gray, (8,6), None)\n",
    "\n",
    "    if ret == True:\n",
    "        objpoints.append(objp)\n",
    "        imgpoints.append(corners)\n",
    "        cv2.drawChessboardCorners(img, (8,6), corners, ret)\n",
    "        scale_percent = 30\n",
    "        width = int(img.shape[1] * scale_percent / 100)\n",
    "        height = int(img.shape[0] * scale_percent / 100)\n",
    "        dim = (width, height)\n",
    "        resized_img = cv2.resize(img, dim, interpolation=cv2.INTER_AREA)\n",
    "        cv2.imshow('img', resized_img)\n",
    "        cv2.waitKey(500)\n",
    "\n",
    "        print(fname)\n",
    "        count += 1\n",
    "\n",
    "cv2.destroyAllWindows()"
   ]
  },
  {
   "cell_type": "code",
   "execution_count": 39,
   "metadata": {},
   "outputs": [
    {
     "name": "stdout",
     "output_type": "stream",
     "text": [
      "40  images found with chessboard\n"
     ]
    }
   ],
   "source": [
    "print(count, \" images found with chessboard\")"
   ]
  },
  {
   "cell_type": "code",
   "execution_count": null,
   "metadata": {},
   "outputs": [
    {
     "name": "stdout",
     "output_type": "stream",
     "text": [
      "K = [[2.94181396e+03 0.00000000e+00 2.09258267e+03]\n",
      " [0.00000000e+00 2.92558788e+03 1.47524797e+03]\n",
      " [0.00000000e+00 0.00000000e+00 1.00000000e+00]]\n",
      "Dist =  [[ 0.15324087 -0.73367413 -0.00311988  0.00757166  0.91412386]]\n",
      "fx =  2941.8139632464286\n",
      "fy =  2925.5878816191384\n",
      "cx =  2092.582668012995\n",
      "cy =  1475.247971466617\n",
      "my_f =  2933.7009224327835\n",
      "my_c =  [2092.58266801 1475.24797147]\n"
     ]
    }
   ],
   "source": [
    "ret, K, dist, rvecs, tvecs = cv2.calibrateCamera(objpoints, imgpoints, img_size,None,None)\n",
    "\n",
    "print(\"K =\",K)\n",
    "print(\"Dist = \",dist)\n",
    "\n",
    "print(\"fx = \",K[0][0])\n",
    "print(\"fy = \",K[1][1])\n",
    "print(\"cx = \",K[0][2])\n",
    "print(\"cy = \",K[1][2])\n",
    "\n",
    "my_f = 0.5 * (K[0,0]+K[1,1])\n",
    "my_c = K[0:2,2]\n",
    "\n",
    "print(\"my_f = \",my_f)\n",
    "print(\"my_c = \",my_c)"
   ]
  },
  {
   "cell_type": "code",
   "execution_count": 41,
   "metadata": {},
   "outputs": [],
   "source": [
    "calib = {}\n",
    "\n",
    "calib[\"my_f\"] = my_f\n",
    "calib[\"my_c\"] = my_c\n",
    "calib[\"fx\"] = K[0][0]\n",
    "calib[\"fy\"] = K[1][1]\n",
    "calib[\"cx\"] = K[0][2]\n",
    "calib[\"cy\"] = K[1][2]\n",
    "calib[\"K\"] = K\n",
    "calib[\"dist\"] = dist\n",
    "\n",
    "fid = open('calibration.pickle', \"wb\" ) \n",
    "\n",
    "pickle.dump(calib,fid)\n",
    "\n",
    "fid.close()"
   ]
  }
 ],
 "metadata": {
  "kernelspec": {
   "display_name": "venv",
   "language": "python",
   "name": "python3"
  },
  "language_info": {
   "codemirror_mode": {
    "name": "ipython",
    "version": 3
   },
   "file_extension": ".py",
   "mimetype": "text/x-python",
   "name": "python",
   "nbconvert_exporter": "python",
   "pygments_lexer": "ipython3",
   "version": "3.11.7"
  }
 },
 "nbformat": 4,
 "nbformat_minor": 2
}
